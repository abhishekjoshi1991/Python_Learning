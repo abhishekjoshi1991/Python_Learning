{
 "cells": [
  {
   "cell_type": "markdown",
   "metadata": {},
   "source": [
    "# Pandas Tutorial"
   ]
  },
  {
   "cell_type": "markdown",
   "metadata": {},
   "source": [
    "### Pandas Introduction"
   ]
  },
  {
   "cell_type": "markdown",
   "metadata": {},
   "source": [
    "Pandas is a Python library used for working with data sets.\n",
    "It is used for data manipulation, analysis and cleaning.\n",
    "Pandas allows us to analyze big data. Pandas can clean messy data sets, and make them readable and relevant."
   ]
  },
  {
   "cell_type": "markdown",
   "metadata": {},
   "source": [
    "# Pandas Series"
   ]
  },
  {
   "cell_type": "markdown",
   "metadata": {},
   "source": [
    "A Pandas Series is like a column in a table.\n",
    "It is a one-dimensional array holding data of any type."
   ]
  },
  {
   "cell_type": "markdown",
   "metadata": {},
   "source": [
    "#### 1. Program to create simple series"
   ]
  },
  {
   "cell_type": "code",
   "execution_count": 7,
   "metadata": {},
   "outputs": [],
   "source": [
    "import pandas as pd"
   ]
  },
  {
   "cell_type": "code",
   "execution_count": 23,
   "metadata": {},
   "outputs": [
    {
     "name": "stdout",
     "output_type": "stream",
     "text": [
      "0    10\n",
      "1    20\n",
      "2    30\n",
      "dtype: int64\n",
      "<class 'pandas.core.series.Series'>\n"
     ]
    }
   ],
   "source": [
    "a = [10,20,30]\n",
    "s = pd.Series(a)\n",
    "print(s)\n",
    "print(type(s))"
   ]
  },
  {
   "cell_type": "markdown",
   "metadata": {},
   "source": [
    "## Labels\n",
    "If noting else is specified in the definition then, the values are labeled with their index number from 0 and so on.\n",
    "This label can be used to access a specified value.\n",
    "\n",
    "With the index argument, we can name our own labels. No. of labels must be equal to number of elements in array"
   ]
  },
  {
   "cell_type": "code",
   "execution_count": 13,
   "metadata": {},
   "outputs": [
    {
     "name": "stdout",
     "output_type": "stream",
     "text": [
      "row1    10\n",
      "row2    20\n",
      "row3    30\n",
      "dtype: int64\n"
     ]
    }
   ],
   "source": [
    "a1 = [10,20,30]\n",
    "s1 = pd.Series(a1,index=['row1','row2','row3'])\n",
    "print(s1)"
   ]
  },
  {
   "cell_type": "markdown",
   "metadata": {},
   "source": [
    "We can access the elemets within the series using this Labels"
   ]
  },
  {
   "cell_type": "code",
   "execution_count": 14,
   "metadata": {},
   "outputs": [
    {
     "name": "stdout",
     "output_type": "stream",
     "text": [
      "20\n"
     ]
    }
   ],
   "source": [
    "print(s1['row2'])"
   ]
  },
  {
   "cell_type": "markdown",
   "metadata": {},
   "source": [
    "#### 2. Program to create series using key/value structure\n",
    "\n",
    "We can also use key/value object, like dictionary to create series, To select only some of the items in the dictionary, we use the index argument and specify only the items you want to include in the Series."
   ]
  },
  {
   "cell_type": "code",
   "execution_count": 15,
   "metadata": {},
   "outputs": [
    {
     "name": "stdout",
     "output_type": "stream",
     "text": [
      "day1    420\n",
      "day2    380\n",
      "day3    390\n",
      "dtype: int64\n"
     ]
    }
   ],
   "source": [
    "calories = {\"day1\": 420, \"day2\": 380, \"day3\": 390}\n",
    "\n",
    "myvar = pd.Series(calories)\n",
    "print(myvar)"
   ]
  },
  {
   "cell_type": "code",
   "execution_count": 16,
   "metadata": {},
   "outputs": [
    {
     "name": "stdout",
     "output_type": "stream",
     "text": [
      "day1    420\n",
      "day3    390\n",
      "dtype: int64\n"
     ]
    }
   ],
   "source": [
    "# by passing only required index arguments\n",
    "c = {\"day1\": 420, \"day2\": 380, \"day3\": 390}\n",
    "\n",
    "myvar1 = pd.Series(c, index=['day1','day3'])\n",
    "print(myvar1)"
   ]
  },
  {
   "cell_type": "markdown",
   "metadata": {},
   "source": [
    "# Pandas DataFrames"
   ]
  },
  {
   "cell_type": "markdown",
   "metadata": {},
   "source": [
    "Data sets in Pandas are usually 2D or multi-dimensional tables, called DataFrames.\n",
    "\n",
    "Series is like a column, a DataFrame is the whole table."
   ]
  },
  {
   "cell_type": "markdown",
   "metadata": {},
   "source": [
    "#### 3. Program to create DataFrame of students roll number, name and marks"
   ]
  },
  {
   "cell_type": "code",
   "execution_count": 31,
   "metadata": {},
   "outputs": [
    {
     "name": "stdout",
     "output_type": "stream",
     "text": [
      "   roll      name  marks\n",
      "0   101  abhishek     85\n",
      "1   102      amit     78\n",
      "2   103      jack     96\n"
     ]
    },
    {
     "data": {
      "text/plain": [
       "pandas.core.frame.DataFrame"
      ]
     },
     "execution_count": 31,
     "metadata": {},
     "output_type": "execute_result"
    }
   ],
   "source": [
    "data={\n",
    "    'roll':[101,102,103],\n",
    "    'name':['abhishek','amit','jack'],\n",
    "    'marks':[85,78,96]\n",
    "}\n",
    "table = pd.DataFrame(data)\n",
    "print(table)\n",
    "type(table)"
   ]
  },
  {
   "cell_type": "markdown",
   "metadata": {},
   "source": [
    "## Locate Rows"
   ]
  },
  {
   "cell_type": "markdown",
   "metadata": {},
   "source": [
    "Using loc attribute we can return one or more specified rows using indexes, if labels are given then we can return the values using that label"
   ]
  },
  {
   "cell_type": "code",
   "execution_count": 48,
   "metadata": {},
   "outputs": [
    {
     "name": "stdout",
     "output_type": "stream",
     "text": [
      "    roll      name  marks\n",
      "R1   101  abhishek     85\n",
      "R2   102      amit     78\n",
      "R3   103      jack     96\n",
      "\n",
      "\n",
      "roll      102\n",
      "name     amit\n",
      "marks      78\n",
      "Name: R2, dtype: object\n",
      "\n",
      "\n",
      "    roll      name  marks\n",
      "R1   101  abhishek     85\n",
      "R2   102      amit     78\n"
     ]
    }
   ],
   "source": [
    "data1={\n",
    "    'roll':[101,102,103],\n",
    "    'name':['abhishek','amit','jack'],\n",
    "    'marks':[85,78,96]\n",
    "}\n",
    "table1 = pd.DataFrame(data1, index=['R1','R2','R3'])\n",
    "print(table1)\n",
    "print('\\n')\n",
    "print(table1.loc['R2'])\n",
    "#above return the Serie\n",
    "\n",
    "print('\\n')\n",
    "print(table1.loc[['R1','R2']]) #need to provide list of multiple labels to grab multiple rows\n",
    "#above returns the DataFrame\n"
   ]
  },
  {
   "cell_type": "code",
   "execution_count": null,
   "metadata": {},
   "outputs": [],
   "source": []
  }
 ],
 "metadata": {
  "kernelspec": {
   "display_name": "Python 3",
   "language": "python",
   "name": "python3"
  },
  "language_info": {
   "codemirror_mode": {
    "name": "ipython",
    "version": 3
   },
   "file_extension": ".py",
   "mimetype": "text/x-python",
   "name": "python",
   "nbconvert_exporter": "python",
   "pygments_lexer": "ipython3",
   "version": "3.7.6"
  }
 },
 "nbformat": 4,
 "nbformat_minor": 4
}
